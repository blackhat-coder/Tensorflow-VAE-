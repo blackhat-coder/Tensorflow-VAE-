{
 "cells": [
  {
   "cell_type": "code",
   "execution_count": 1,
   "metadata": {},
   "outputs": [],
   "source": [
    "import matplotlib as mpl\n",
    "import matplotlib.pyplot as plt\n",
    "import numpy as np\n",
    "import cv2"
   ]
  },
  {
   "cell_type": "code",
   "execution_count": 6,
   "metadata": {},
   "outputs": [
    {
     "data": {
      "text/plain": [
       "array([1.84765531e+10])"
      ]
     },
     "execution_count": 6,
     "metadata": {},
     "output_type": "execute_result"
    }
   ],
   "source": [
    "np.array([20000.0999833434]) * np.array([923823.034930])"
   ]
  },
  {
   "cell_type": "code",
   "execution_count": 7,
   "metadata": {},
   "outputs": [],
   "source": [
    "from numpy.lib.function_base import gradient\n",
    "import tensorflow as tf\n",
    "from tensorflow import keras\n",
    "import numpy as np\n",
    "\n",
    "from numpy.lib.function_base import gradient\n",
    "import tensorflow as tf\n",
    "from tensorflow import keras\n",
    "import numpy as np\n",
    "import datetime\n",
    "\n",
    "from utilss import LATENT_DIM\n",
    "from utilss import NO_EPOCHS\n",
    "from utilss import BATCH_SIZE\n",
    "from utilss import LEARNING_RATE\n",
    "from utilss import LOG_DIR\n",
    "\n",
    "from models.model_def import VAE\n",
    "from models.model_def import Encoder\n",
    "from models.model_def import Decoder"
   ]
  },
  {
   "cell_type": "code",
   "execution_count": 8,
   "metadata": {},
   "outputs": [
    {
     "data": {
      "text/plain": [
       "20"
      ]
     },
     "execution_count": 8,
     "metadata": {},
     "output_type": "execute_result"
    }
   ],
   "source": [
    "LATENT_DIM"
   ]
  },
  {
   "cell_type": "code",
   "execution_count": 9,
   "metadata": {},
   "outputs": [],
   "source": [
    "class Encoder_test(keras.Model):\n",
    "\n",
    "    def __init__(self, **kwargs):\n",
    "        super(Encoder_test, self).__init__(**kwargs)\n",
    "\n",
    "        # self.input_layer = keras.layers.Input(shape=(INPUT_SIZE))\n",
    "\n",
    "        # self.f = keras.layers.Flatten()\n",
    "        # self.l1 = keras.layers.Dense(364, activation=\"relu\")\n",
    "        # self.l2 = keras.layers.Dense(224, activation=\"relu\")\n",
    "        # self.l3 = keras.layers.Dense(124, activation=\"relu\")\n",
    "        # self.l4 = keras.layers.Dense(64, activation=\"relu\")\n",
    "        # self.l5 = keras.layers.Dense(24)\n",
    "                \n",
    "        self.conv_layer_one = keras.layers.Conv2D(24, 3, padding=\"valid\", activation=\"relu\") # 26 x 26\n",
    "        self.conv_layer_two = keras.layers.Conv2D(64, 3, padding=\"valid\", activation=\"relu\") # 24 X 24\n",
    "        self.pool_one = keras.layers.MaxPool2D(2, 2) # 12 x 12 X 64\n",
    "        \n",
    "        \n",
    "\n",
    "\n",
    "    def __call__(self, inputs):\n",
    "\n",
    "        # inputs = self.input_layer(inputs)\n",
    "        # inputs = self.f(inputs)\n",
    "        # inputs = self.l1(inputs)\n",
    "        # inputs = self.l2(inputs)\n",
    "        # inputs = self.l3(inputs)\n",
    "        # inputs = self.l4(inputs)\n",
    "        # inputs = self.l5(inputs)\n",
    "\n",
    "\n",
    "        inputs = self.conv_layer_one(inputs)\n",
    "        inputs = self.conv_layer_two(inputs)\n",
    "        inputs = self.pool_one(inputs)\n",
    "\n",
    "        flatten = keras.layers.Flatten()(inputs)\n",
    "        fcn = keras.layers.Dense(64, activation=\"relu\")(flatten)\n",
    "\n",
    "        mean = keras.layers.Dense(LATENT_DIM)(fcn)\n",
    "        mu_ = keras.layers.Dense(LATENT_DIM)(fcn)\n",
    "\n",
    "        # mean = keras.layers.Dense(LATENT_DIM)(inputs)\n",
    "        # mu_ = keras.layers.Dense(LATENT_DIM)(inputs)\n",
    "\n",
    "        # enc_model = keras.models.Model( \n",
    "        #     inputs=[inputs], \n",
    "        #     outputs=[mean, mu_]\n",
    "        # )\n",
    "        \n",
    "        return (mean, mu_)\n",
    "\n",
    "class Decoder_test(keras.Model):\n",
    "\n",
    "    def __init__(self, **kwargs):\n",
    "        super(Decoder_test, self).__init__(**kwargs)\n",
    "\n",
    "        self.input_layer = keras.layers.Input(shape=(LATENT_DIM) )\n",
    "        # self.dense_layer = keras.layers.Dense(7 * 7 * 128)\n",
    "        # self.reshape_layer = keras.layers.Reshape((7, 7, 128))\n",
    "\n",
    "        # self.l_1 = keras.layers.Dense(24, activation=\"relu\")\n",
    "        # self.l_2 = keras.layers.Dense(64, activation=\"relu\")\n",
    "        # self.l_3 = keras.layers.Dense(124, activation=\"relu\")\n",
    "        # self.l_4 = keras.layers.Dense(224, activation=\"relu\")\n",
    "        # self.l_5 = keras.layers.Dense(364, activation=\"relu\")\n",
    "        # self.l_6 = keras.layers.Dense(28*28, activation=\"sigmoid\")\n",
    "\n",
    "        self.l_1_c = keras.layers.Dense(12*12, activation=\"relu\")\n",
    "        self.l_2_c = keras.layers.Reshape((12, 12, 1))\n",
    "        self.l_3_c = keras.layers.Conv2DTranspose(64, 3, padding=\"valid\", activation=\"relu\")\n",
    "        self.l_4_c = keras.layers.Conv2DTranspose(24, 3, strides=2,padding=\"same\", activation=\"relu\")\n",
    "        self.l_5_c = keras.layers.Conv2DTranspose(1, 3, padding=\"same\", activation=\"sigmoid\")\n",
    "        self.r = keras.layers.Reshape((28, 28))\n",
    "\n",
    "        # write the sequential model in __call__()\n",
    "    def __call__(self, inputs):\n",
    "        \n",
    "        dec_model = keras.models.Sequential([\n",
    "            self.input_layer,\n",
    "            # self.l_1,\n",
    "            self.l_1_c,\n",
    "            self.l_2_c,\n",
    "            self.l_3_c,\n",
    "            self.l_4_c,\n",
    "            self.l_5_c,\n",
    "            self.r\n",
    "        ])\n",
    "\n",
    "        return dec_model(inputs)\n",
    "\n",
    "\n",
    "class Sampling(keras.layers.Layer):\n",
    "    \n",
    "    '''\n",
    "    Reparamaterization Trick\n",
    "    '''\n",
    "\n",
    "    def __init__(self, **kwargs):\n",
    "        super(Sampling, self).__init__(**kwargs)\n",
    "\n",
    "    def __call__(self, inputs):\n",
    "\n",
    "        '''\n",
    "        Args:\n",
    "            inputs - A tuple containing (mean, variance)\n",
    "            output - A vector of shape LATENT_DIM\n",
    "        '''\n",
    "\n",
    "        mean, log_var = inputs\n",
    "        sample = tf.random.normal([LATENT_DIM]) * tf.exp(log_var / 2) + mean\n",
    "\n",
    "        return sample\n",
    "\n",
    "class VAE_test(keras.Model):\n",
    "    # Implement Holding the latent Vector\n",
    "\n",
    "    def __init__(self, **kwargs):\n",
    "        super(VAE_test, self).__init__(**kwargs)\n",
    "\n",
    "        self.encoder = Encoder_test()\n",
    "        self.decoder = Decoder_test()\n",
    "    \n",
    "    \n",
    "    def __call__(self, inputs):\n",
    "        '''\n",
    "        Args:\n",
    "            -input : inputs , shape = (batch, INPUT_SIZE , INPUT_SIZE)\n",
    "\n",
    "            -output : (reconstruction, mean, log_var)\n",
    "                reconstruction : shape = (batch, INPUT_SIZE, INPUT_SIZE)\n",
    "                mean           : shape = (LATENT_DIM, 1)\n",
    "                log_var        : shape = (LATENT_DIM, 1)\n",
    "    \n",
    "        '''\n",
    "\n",
    "        inputs = inputs\n",
    "\n",
    "        mean, log_var = self.encoder(inputs) #shape : INPUT_SIZE\n",
    "\n",
    "        latent_vector = Sampling()((mean, log_var))\n",
    "\n",
    "        reconstruction = self.decoder(latent_vector)\n",
    "\n",
    "        # vae_model = keras.models.Model(inputs=[inputs], outputs=[reconstruction])\n",
    "\n",
    "        return reconstruction, mean, log_var"
   ]
  },
  {
   "cell_type": "code",
   "execution_count": 16,
   "metadata": {},
   "outputs": [],
   "source": [
    "def lr_scheduler(epoch, lr):\n",
    "    if epoch == 20:\n",
    "        lr = epoch / 10\n",
    "    if epoch == 30:\n",
    "        lr = epoch / 10\n",
    "    \n",
    "    return lr "
   ]
  },
  {
   "cell_type": "code",
   "execution_count": 15,
   "metadata": {},
   "outputs": [],
   "source": [
    "\n",
    "keras_loss = tf.keras.losses.SparseCategoricalCrossentropy()\n",
    "\n",
    "\n",
    "# Refactor Network_loss into class Network_loss\n",
    "def Network_loss(mean, log_var, alpha=1, beta=1):\n",
    "\n",
    "    def loss(y_true, y_pred):\n",
    "        y_true = tf.reshape(y_true, (-1, 28, 28))\n",
    "        y_pred = tf.reshape(y_pred, (-1, 28, 28))\n",
    "        y_true = tf.cast(y_true, tf.float32)\n",
    "\n",
    "        # assert y_true.dtype = tf.float32, \"use tf.cast() to cast y_true to type tf.float32\"\n",
    "\n",
    "        latent_loss = 1 + log_var - tf.square(mean) - tf.exp(log_var)\n",
    "        latent_loss = -0.5 + tf.reduce_sum(latent_loss, 1)\n",
    "\n",
    "        recons_loss = y_true * tf.math.log(1e-10+y_pred) + (1 - y_true) * tf.math.log(1e-10 + 1 - y_pred)\n",
    "        recons_loss = -tf.reduce_sum(recons_loss)\n",
    "\n",
    "        network_loss = alpha * recons_loss + beta * latent_loss\n",
    "        network_loss = tf.reduce_mean(network_loss)\n",
    "\n",
    "        return network_loss\n",
    "    \n",
    "    return loss\n",
    "\n",
    "(x_train, y_train), (x_test, y_test) = keras.datasets.mnist.load_data()\n",
    "x_train = np.reshape(x_train, (-1, 28, 28, 1))\n",
    "x_test = np.reshape(x_test, (-1, 28, 28, 1))\n",
    "\n",
    "x_train = x_train/255.0\n",
    "\n",
    "\n",
    "x_val = x_train[-10000:]\n",
    "y_val = y_train[-10000:]\n",
    "x_train = x_train[:-10000]\n",
    "y_train = y_train[:-10000]\n",
    "\n",
    "x_train = x_train[4:204]\n",
    "y_train = y_train[4:204]\n",
    "\n",
    "train_dataset = tf.data.Dataset.from_tensor_slices((x_train, y_train))\n",
    "train_dataset = train_dataset.shuffle(buffer_size=1024).batch(15)\n",
    "\n",
    "\n",
    "p_t = []\n",
    "\n",
    "optimizer = tf.optimizers.Adam(learning_rate=0.005)\n",
    "\n",
    "log_grads = []\n",
    "\n",
    "def LogsWriter():\n",
    "    log_dir_name = datetime.datetime.now().strftime(\"%d%m%y-%H%M%S\")\n",
    "\n",
    "    train_writer = tf.summary.create_file_writer(f\"{LOG_DIR}\\\\{log_dir_name}\\\\train\")\n",
    "    val_writer = tf.summary.create_file_writer(f\"{LOG_DIR}\\\\{log_dir_name}\\\\val\")\n",
    "\n",
    "    return train_writer, val_writer"
   ]
  },
  {
   "cell_type": "code",
   "execution_count": 16,
   "metadata": {},
   "outputs": [
    {
     "data": {
      "text/plain": [
       "Counter({9: 23, 2: 20, 1: 27, 3: 22, 4: 20, 5: 12, 6: 19, 7: 21, 8: 16, 0: 20})"
      ]
     },
     "execution_count": 16,
     "metadata": {},
     "output_type": "execute_result"
    }
   ],
   "source": [
    "from collections import Counter\n",
    "\n",
    "\n",
    "counter = Counter\n",
    "counter(y_train)"
   ]
  },
  {
   "cell_type": "code",
   "execution_count": 12,
   "metadata": {},
   "outputs": [
    {
     "data": {
      "text/plain": [
       "<matplotlib.image.AxesImage at 0x1a9c384c820>"
      ]
     },
     "execution_count": 12,
     "metadata": {},
     "output_type": "execute_result"
    },
    {
     "data": {
      "image/png": "[encoded data removed]",
      "text/plain": [
       "<Figure size 432x288 with 1 Axes>"
      ]
     },
     "metadata": {
      "needs_background": "light"
     },
     "output_type": "display_data"
    }
   ],
   "source": [
    "plt.imshow(np.reshape(x_train[6], (28, 28, 1)))"
   ]
  },
  {
   "cell_type": "code",
   "execution_count": 17,
   "metadata": {},
   "outputs": [
    {
     "name": "stdout",
     "output_type": "stream",
     "text": [
      "Starting tarining.py\n",
      "WARNING:tensorflow:Layer conv2d_4 is casting an input tensor from dtype float64 to the layer's dtype of float32, which is new behavior in TensorFlow 2.  The layer has dtype float32 because its dtype defaults to floatx.\n",
      "\n",
      "If you intended to run this layer in float32, you can safely ignore this warning. If in doubt, this warning is likely only an issue if you are porting a TensorFlow 1.X model to TensorFlow 2.\n",
      "\n",
      "To change all layers to have dtype float64 by default, call `tf.keras.backend.set_floatx('float64')`. To change just this layer, pass dtype='float64' to the layer constructor. If you are the author of this layer, you can disable autocasting by passing autocast=False to the base Layer constructor.\n",
      "\n",
      "Epoch: 0\n",
      "loss: 1929.931884765625\n",
      "Epoch: 1\n",
      "loss: 1884.4320068359375\n",
      "Epoch: 2\n",
      "loss: 1328.06982421875\n",
      "Epoch: 3\n",
      "loss: 1073.9688720703125\n",
      "Epoch: 4\n",
      "loss: 1167.7239990234375\n",
      "Epoch: 5\n",
      "loss: 1059.5389404296875\n",
      "Epoch: 6\n",
      "loss: 1130.499267578125\n",
      "Epoch: 7\n",
      "loss: 1114.3753662109375\n",
      "Epoch: 8\n",
      "loss: 1239.11962890625\n",
      "Epoch: 9\n",
      "loss: 954.0924072265625\n",
      "Epoch: 10\n",
      "loss: 1000.9608154296875\n",
      "Epoch: 11\n",
      "loss: 1052.642578125\n",
      "Epoch: 12\n",
      "loss: 963.2615356445312\n",
      "Epoch: 13\n",
      "loss: 1228.86572265625\n",
      "Epoch: 14\n",
      "loss: 1167.2259521484375\n",
      "Epoch: 15\n",
      "loss: 927.2703247070312\n",
      "Epoch: 16\n",
      "loss: 1066.1822509765625\n",
      "Epoch: 17\n",
      "loss: 1010.1853637695312\n",
      "Epoch: 18\n",
      "loss: 938.8693237304688\n",
      "Epoch: 19\n",
      "loss: 1218.3255615234375\n",
      "Epoch: 20\n",
      "loss: 1092.254150390625\n",
      "Epoch: 21\n",
      "loss: 884.5733642578125\n",
      "Epoch: 22\n",
      "loss: 935.3818359375\n",
      "Epoch: 23\n",
      "loss: 893.8424072265625\n",
      "Epoch: 24\n",
      "loss: 1033.0048828125\n",
      "Epoch: 25\n",
      "loss: 1139.6043701171875\n",
      "Epoch: 26\n",
      "loss: 899.1932373046875\n",
      "Epoch: 27\n",
      "loss: 1033.7532958984375\n",
      "Epoch: 28\n",
      "loss: 1127.3182373046875\n",
      "Epoch: 29\n",
      "loss: 1102.4072265625\n",
      "session ended\n"
     ]
    }
   ],
   "source": [
    "def train(train_writer=True):\n",
    "\n",
    "    model = VAE()\n",
    "\n",
    "    if train_writer == True:\n",
    "        t_writer, v_writer = LogsWriter()\n",
    "\n",
    "    for epoch in range(30):\n",
    "\n",
    "        for step, (batch_x, batch_y) in enumerate(train_dataset):\n",
    "            # print(batch_x.shape)\n",
    "\n",
    "            with tf.GradientTape() as tape:\n",
    "\n",
    "                (predictions, mean, lg_var) = model(batch_x)\n",
    "\n",
    "                loss = Network_loss(mean, lg_var, alpha=1, beta=1)\n",
    "                loss_ = loss(batch_x, predictions)\n",
    "\n",
    "                # batch_x = np.reshape(batch_x, (1,784))\n",
    "                # loss_ = keras_loss(batch_x, predictions)\n",
    "            \n",
    "            gradients = tape.gradient(loss_, model.trainable_weights)\n",
    "            \n",
    "            clipped_grads = [tf.clip_by_value(grad, -1., 1.)  for grad in gradients]\n",
    "\n",
    "            optimizer.apply_gradients(zip(gradients, model.trainable_weights))\n",
    "\n",
    "        # Logging loss\n",
    "        with t_writer.as_default():\n",
    "            tf.summary.scalar(\"train_loss\", loss_, step=epoch)\n",
    "\n",
    "            t_writer.flush()\n",
    "\n",
    "        log_grads.append({ f\"epoch:{epoch}\":[ {\"max\":max} , {\"min\": min}, {\"mean\":mean}   ] })\n",
    "\n",
    "        if epoch > 30:\n",
    "            optimizer._initial_decay = 2.0\n",
    "            \n",
    "        print(f\"Epoch: {epoch}\\nloss: {loss_}\")\n",
    "        p_t.append(predictions)\n",
    "        # Write Checkpoint at epoch level or at batch level\n",
    "\n",
    "\n",
    "# def test_loss():\n",
    "#     import matplotlib as mpl\n",
    "#     import matplotlib.pyplot as plt\n",
    "#     import cv2\n",
    "#     x_t = x_train[4:5]\n",
    "\n",
    "#     t_model = VAE()\n",
    "#     t_y, m, v = t_model(x_t)\n",
    "\n",
    "#     print(\"pred shape\")\n",
    "#     print(t_y.shape)\n",
    "#     print(\"input shape\")\n",
    "#     print(x_t.shape)\n",
    "\n",
    "#     t_y = np.reshape(t_y, [28, 28])\n",
    "#     x_t = np.reshape(x_t, [28, 28])\n",
    "    \n",
    "#     cv2.imwrite(\"x_t.jpg\", x_t)\n",
    "#     # cv2.imwrite(\"t_y.jpg\", t_y)\n",
    "    \n",
    "#     print(f\"loss:{ Network_loss(m, v)(x_t, t_y) } \")\n",
    "\n",
    "#     # print(np.array(x_t))\n",
    "#     plt.imshow(x_t)\n",
    "#     # plt.imshow(t_y)\n",
    "\n",
    "if __name__ == \"__main__\":\n",
    "    print(\"Starting tarining.py\")\n",
    "    train()\n",
    "    # test_loss()~\n",
    "    print(\"session ended\")\n",
    "    # print(\"hello world!\")"
   ]
  },
  {
   "cell_type": "markdown",
   "metadata": {},
   "source": [
    "optimizer = adam(lr=0.001), batch_size = 7, 100 samples, average loss at epoch 10 - 330\n",
    "optimizer = adam(lr=0.001), batch_size = 10, 200 samples, average loss at epoch 3 - 2000\n",
    "optimizer = adam(lr=0.001), batch_size = 10, 200 samples, average loss at epoch 4 - 2347\n",
    "optimizer = adam(lr=0.01), batch_size = 20, 200 samples, loss at first epoch - 9000"
   ]
  },
  {
   "cell_type": "markdown",
   "metadata": {},
   "source": [
    "!. I'm Excited!!! We have a lead, with optimizer Adam, loss:174, lr:0.001\n",
    "\n",
    "batch size- 5, 10"
   ]
  },
  {
   "cell_type": "code",
   "execution_count": 31,
   "metadata": {},
   "outputs": [
    {
     "data": {
      "text/plain": [
       "TensorShape([5, 28, 28])"
      ]
     },
     "execution_count": 31,
     "metadata": {},
     "output_type": "execute_result"
    }
   ],
   "source": [
    "p_t[0].shape"
   ]
  },
  {
   "cell_type": "code",
   "execution_count": 19,
   "metadata": {},
   "outputs": [
    {
     "data": {
      "text/plain": [
       "<matplotlib.image.AxesImage at 0x1a9e8484520>"
      ]
     },
     "execution_count": 19,
     "metadata": {},
     "output_type": "execute_result"
    },
    {
     "data": {
      "image/png": "[encoded data removed]",
      "text/plain": [
       "<Figure size 432x288 with 1 Axes>"
      ]
     },
     "metadata": {
      "needs_background": "light"
     },
     "output_type": "display_data"
    }
   ],
   "source": [
    "# plt.imshow(np.reshape(p_t[29][0], [28, 28])) \n",
    "plt.imshow(np.reshape(p_t[29][4], [28, 28]))"
   ]
  },
  {
   "cell_type": "markdown",
   "metadata": {},
   "source": [
    "!. I'm Excited!!! We have a lead, with optimizer Adam, loss:174, lr:0.001.\n",
    "\n",
    "with Adam VAE(), latent_dim = 4, loss = 120(36 epoch), lr=0.003, batch_size=5, trian_len=46, epochs=50, we can see something"
   ]
  },
  {
   "cell_type": "code",
   "execution_count": 92,
   "metadata": {},
   "outputs": [
    {
     "data": {
      "text/plain": [
       "<tensorflow.python.keras.optimizer_v2.adam.Adam at 0x1e0a62d9a00>"
      ]
     },
     "execution_count": 92,
     "metadata": {},
     "output_type": "execute_result"
    }
   ],
   "source": [
    "optimizer"
   ]
  },
  {
   "cell_type": "code",
   "execution_count": 102,
   "metadata": {},
   "outputs": [],
   "source": [
    "optimizer._initial_decay = 0.5"
   ]
  },
  {
   "cell_type": "code",
   "execution_count": 103,
   "metadata": {},
   "outputs": [
    {
     "data": {
      "text/plain": [
       "0.5"
      ]
     },
     "execution_count": 103,
     "metadata": {},
     "output_type": "execute_result"
    }
   ],
   "source": [
    "optimizer"
   ]
  },
  {
   "cell_type": "code",
   "execution_count": null,
   "metadata": {},
   "outputs": [],
   "source": []
  }
 ],
 "metadata": {
  "interpreter": {
   "hash": "d7188dd80f53663500f2258cb10eb1832a6ea2b437bc9bbd5dff078eab8e6fa4"
  },
  "kernelspec": {
   "display_name": "Python 3.8.5 ('condaenv')",
   "language": "python",
   "name": "python3"
  },
  "language_info": {
   "codemirror_mode": {
    "name": "ipython",
    "version": 3
   },
   "file_extension": ".py",
   "mimetype": "text/x-python",
   "name": "python",
   "nbconvert_exporter": "python",
   "pygments_lexer": "ipython3",
   "version": "3.8.5"
  },
  "orig_nbformat": 4
 },
 "nbformat": 4,
 "nbformat_minor": 2
}
